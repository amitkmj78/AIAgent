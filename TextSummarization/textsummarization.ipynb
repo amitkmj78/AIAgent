{
 "cells": [
  {
   "cell_type": "code",
   "execution_count": 54,
   "metadata": {},
   "outputs": [
    {
     "data": {
      "text/plain": [
       "ChatGroq(client=<groq.resources.chat.completions.Completions object at 0x00000217C27AE080>, async_client=<groq.resources.chat.completions.AsyncCompletions object at 0x00000217C27AF5B0>, model_name='Gemma2-9b-It', model_kwargs={}, groq_api_key=SecretStr('**********'))"
      ]
     },
     "execution_count": 54,
     "metadata": {},
     "output_type": "execute_result"
    }
   ],
   "source": [
    "import os\n",
    "from dotenv import load_dotenv\n",
    "from langchain_groq import ChatGroq\n",
    "load_dotenv()\n",
    "\n",
    "groq_api_key=os.getenv(\"GROQ_API_KEY\")\n",
    "\n",
    "llm= ChatGroq(api_key=groq_api_key, model=\"Gemma2-9b-It\")\n",
    "llm"
   ]
  },
  {
   "cell_type": "code",
   "execution_count": 32,
   "metadata": {},
   "outputs": [],
   "source": [
    "from langchain.schema import (\n",
    "AIMessage, HumanMessage, SystemMessage\n",
    "\n",
    ")"
   ]
  },
  {
   "cell_type": "code",
   "execution_count": 33,
   "metadata": {},
   "outputs": [],
   "source": [
    "speech=\"\"\"\n",
    "People across the country, involved in government, political, and social activities, are dedicating their time to make the ‘Viksit Bharat Sankalp Yatra’ (Developed India Resolution Journey) successful. Therefore, as a Member of Parliament, it was my responsibility to also contribute my time to this program. So, today, I have come here just as a Member of Parliament and your ‘sevak’, ready to participate in this program, much like you.\n",
    "\n",
    "In our country, governments have come and gone, numerous schemes have been formulated, discussions have taken place, and big promises have been made. However, my experience and observations led me to believe that the most critical aspect that requires attention is ensuring that the government’s plans reach the intended beneficiaries without any hassles. If there is a ‘Pradhan Mantri Awas Yojana’ (Prime Minister’s housing scheme), then those who are living in jhuggis and slums should get their houses. And he should not need to make rounds of the government offices for this purpose. The government should reach him. Since you have assigned this responsibility to me, about four crore families have got their ‘pucca’ houses. However, I have encountered cases where someone is left out of the government benefits. Therefore, I have decided to tour the country again, to listen to people’s experiences with government schemes, to understand whether they received the intended benefits, and to ensure that the programs are reaching everyone as planned without paying any bribes. We will get the real picture if we visit them again. Therefore, this ‘Viksit Bharat Sankalp Yatra’ is, in a way, my own examination. I want to hear from you and the people across the country whether what I envisioned and the work I have been doing aligns with reality and whether it has reached those for whom it was meant.\n",
    "\n",
    "It is crucial to check whether the work that was supposed to happen has indeed taken place. I recently met some individuals who utilized the Ayushman card to get treatment for serious illnesses. One person met with a severe accident, and after using the card, he could afford the necessary operation, and now he is recovering well. When I asked him, he said: “How could I afford this treatment? Now that there is the Ayushman card, I mustered courage and underwent an operation. Now I am perfectly fine.”  Such stories are blessings to me.\n",
    "\n",
    "The bureaucrats, who prepare good schemes, expedite the paperwork and even allocate funds, also feel satisfied that 50 or 100 people who were supposed to get the funds have got it. The funds meant for a thousand villages have been released. But their job satisfaction peaks when they hear that their work has directly impacted someone’s life positively. When they see the tangible results of their efforts, their enthusiasm multiplies. They feel satisfied. Therefore, ‘Viksit Bharat Sankalp Yatra’ has had a positive impact on government officers. It has made them more enthusiastic about their work, especially when they witness the tangible benefits reaching the people. Officers now feel satisfied with their work, saying, “I made a good plan, I created a file, and the intended beneficiaries received the benefits.” When they find that the money has reached a poor widow under the Jeevan Jyoti scheme and it was a great help to her during her crisis, they realise that they have done a good job. When a government officer listens to such stories, he feels very satisfied.\n",
    "\n",
    "There are very few who understand the power and impact of the ‘Viksit Bharat Sankalp Yatra’. When I hear people connected to bureaucratic circles talking about it, expressing their satisfaction, it resonates with me. I’ve heard stories where someone suddenly received 2 lakh rupees after the death of her husband, and a sister mentioned how the arrival of gas in her home transformed her lives. The most significant aspect is when someone says that the line between rich and poor has vanished. While the slogan ‘Garibi Hatao’ (Remove Poverty) is one thing, but the real change happens when a person says, “As soon as the gas stove came to my house, the distinction between poverty and affluence disappeared.\n",
    "\"\"\""
   ]
  },
  {
   "cell_type": "code",
   "execution_count": 34,
   "metadata": {},
   "outputs": [],
   "source": [
    "chatMessage=[\n",
    "    SystemMessage(content=\"your are expert please summarize speeach0 \"),\n",
    "    HumanMessage(content=f\"please provide very small and consize summary of the following speeach:\\n: text:{speech}\",)\n",
    "]"
   ]
  },
  {
   "cell_type": "code",
   "execution_count": 35,
   "metadata": {},
   "outputs": [
    {
     "data": {
      "text/plain": [
       "'\\nwrite summary of the follwing speech\\nspeech=\\nPeople across the country, involved in government, political, and social activities, are dedicating their time to make the ‘Viksit Bharat Sankalp Yatra’ (Developed India Resolution Journey) successful. Therefore, as a Member of Parliament, it was my responsibility to also contribute my time to this program. So, today, I have come here just as a Member of Parliament and your ‘sevak’, ready to participate in this program, much like you.\\n\\nIn our country, governments have come and gone, numerous schemes have been formulated, discussions have taken place, and big promises have been made. However, my experience and observations led me to believe that the most critical aspect that requires attention is ensuring that the government’s plans reach the intended beneficiaries without any hassles. If there is a ‘Pradhan Mantri Awas Yojana’ (Prime Minister’s housing scheme), then those who are living in jhuggis and slums should get their houses. And he should not need to make rounds of the government offices for this purpose. The government should reach him. Since you have assigned this responsibility to me, about four crore families have got their ‘pucca’ houses. However, I have encountered cases where someone is left out of the government benefits. Therefore, I have decided to tour the country again, to listen to people’s experiences with government schemes, to understand whether they received the intended benefits, and to ensure that the programs are reaching everyone as planned without paying any bribes. We will get the real picture if we visit them again. Therefore, this ‘Viksit Bharat Sankalp Yatra’ is, in a way, my own examination. I want to hear from you and the people across the country whether what I envisioned and the work I have been doing aligns with reality and whether it has reached those for whom it was meant.\\n\\nIt is crucial to check whether the work that was supposed to happen has indeed taken place. I recently met some individuals who utilized the Ayushman card to get treatment for serious illnesses. One person met with a severe accident, and after using the card, he could afford the necessary operation, and now he is recovering well. When I asked him, he said: “How could I afford this treatment? Now that there is the Ayushman card, I mustered courage and underwent an operation. Now I am perfectly fine.”  Such stories are blessings to me.\\n\\nThe bureaucrats, who prepare good schemes, expedite the paperwork and even allocate funds, also feel satisfied that 50 or 100 people who were supposed to get the funds have got it. The funds meant for a thousand villages have been released. But their job satisfaction peaks when they hear that their work has directly impacted someone’s life positively. When they see the tangible results of their efforts, their enthusiasm multiplies. They feel satisfied. Therefore, ‘Viksit Bharat Sankalp Yatra’ has had a positive impact on government officers. It has made them more enthusiastic about their work, especially when they witness the tangible benefits reaching the people. Officers now feel satisfied with their work, saying, “I made a good plan, I created a file, and the intended beneficiaries received the benefits.” When they find that the money has reached a poor widow under the Jeevan Jyoti scheme and it was a great help to her during her crisis, they realise that they have done a good job. When a government officer listens to such stories, he feels very satisfied.\\n\\nThere are very few who understand the power and impact of the ‘Viksit Bharat Sankalp Yatra’. When I hear people connected to bureaucratic circles talking about it, expressing their satisfaction, it resonates with me. I’ve heard stories where someone suddenly received 2 lakh rupees after the death of her husband, and a sister mentioned how the arrival of gas in her home transformed her lives. The most significant aspect is when someone says that the line between rich and poor has vanished. While the slogan ‘Garibi Hatao’ (Remove Poverty) is one thing, but the real change happens when a person says, “As soon as the gas stove came to my house, the distinction between poverty and affluence disappeared.\\n\\nTranslate the precise summary into follwing language french\\n\\n'"
      ]
     },
     "execution_count": 35,
     "metadata": {},
     "output_type": "execute_result"
    }
   ],
   "source": [
    "from langchain.chains import LLMChain\n",
    "from langchain import PromptTemplate\n",
    "\n",
    "genrictemplate=\"\"\"\n",
    "write summary of the follwing speech\n",
    "speech={speech}\n",
    "Translate the precise summary into follwing language {language}\n",
    "\n",
    "\"\"\"\n",
    "\n",
    "prompt= PromptTemplate(\n",
    "\n",
    "input_variable=['speech','language'],\n",
    "template=genrictemplate\n",
    ")\n",
    "\n",
    "complete_prompt= prompt.format(speech=speech, language=\"french\")\n",
    "complete_prompt"
   ]
  },
  {
   "cell_type": "code",
   "execution_count": 36,
   "metadata": {},
   "outputs": [
    {
     "data": {
      "text/plain": [
       "'यह भाषण विकासशील भारत संकल्प यात्रा के बारे में है। भाषणकार, एक सांसद, इस यात्रा को सरकार की योजनाओं के लाभार्थियों तक पहुंच सुनिश्चित करने के लिए एक महत्वपूर्ण प्रयास के रूप में देखते हैं। वे स्वयं ने देश भर में यात्रा करने का फैसला किया है, लोगों से उनकी अनुभवों के बारे में सुनने और यह सुनिश्चित करने के लिए कि योजनाएँ उन लोगों तक पहुँच रही हैं जिनके लिए वे हैं। \\n\\nभाषणकार ने प्रधानमंत्री आवास योजना और आयुष्मान योजना जैसी योजनाओं के प्रभावों के बारे में उदाहरण दिए हैं। वे बताते हैं कि कैसे इन योजनाओं ने लोगों की जीवन में सकारात्मक बदलाव लाया है और सरकारी कर्मचारियों को भी प्रेरित किया है। \\n\\nभाषणकार का मानना है कि विकासशील भारत संकल्प यात्रा ने गरीबी और समृद्धि के बीच की रेखा को धुंधला कर दिया है, और लोगों को वास्तविक लाभ पहुँचाया है। \\n'"
      ]
     },
     "execution_count": 36,
     "metadata": {},
     "output_type": "execute_result"
    }
   ],
   "source": [
    "llmchain=LLMChain(llm=llm, prompt=prompt)\n",
    "summary= llmchain.run({'speech':speech,'language':'hindi' })\n",
    "summary"
   ]
  },
  {
   "cell_type": "code",
   "execution_count": 37,
   "metadata": {},
   "outputs": [
    {
     "data": {
      "text/plain": [
       "[Document(metadata={'source': 'apjspeech.pdf', 'page': 0}, page_content='A P J Abdul Kalam Departing speech \\n \\n \\nFriends, I am delighted to address you all, in the country and those living abroad, after \\nworking with you and completing five beautiful and eventful years in Rashtrapati \\nBhavan. Today, it is indeed a thanks giving occasion. I would like to narr ate, how I \\nenjoyed every minute of my tenure enriched by the wonderful assoc iation from each one \\nof you, hailing from different walks of life, be it politics, sci ence and technology, \\nacademics, arts, literature, business, judiciary, administration, local bodies, farming, \\nhome makers, special children, media and above all from the youth and st udent \\ncommunity who are the future wealth of our country. During my intera ction at \\nRashtrapati Bhavan in Delhi and at every state and union territor y as well as through my \\nonline interactions, I have many unique experiences to share with you, which signify the \\nfollowing important messages: \\n \\n1. Accelerate development : Aspiration of the youth, \\n \\n2. Empower villages, \\n \\n3. Mobilize rural core competence for competitiveness, \\n \\n4. Seed to Food: Backbone for agricultural growth \\n \\n5. Defeat problems and succeed, \\n \\n6. Overcome problems through partnership, \\n \\n7. Courage in combating calamities, \\n \\n8. Connectivity for societal transformation, \\n \\n9. Defending the nation: Our pride and \\n \\n10. Youth movement for Developed India 2020. \\n \\nNow let me share with you each of the messages. \\n \\nAccelerate Development: Aspiration of the youth \\nWhile there were many significant events during my tenure, a question from a little girl \\nAnukriti of Sri Sathya Sai Jagriti Vidya Mandir School, of Dar wa village from Haryana, \\nduring children’s visit to Rashtrapati Bhavan on May 22, 2006, rings in my  mind ever \\nafter. \\n \\nAnukriti asked me “why India cannot become a developed nation before the year 2020”. I \\nappreciated the question and said it was indeed a thoughtful question and assured her that \\nthat her dream would be taken to the highest institution of the nation and we would work'),\n",
       " Document(metadata={'source': 'apjspeech.pdf', 'page': 1}, page_content='for it to achieve before 2020. This question reflects how the desire t o live in developed \\nIndia has entered into the minds of the youth. The same feelings are  echoed by over \\nfifteen lakh youth, whom I have met so far and who represent the drea m of the 540 \\nmillion youth of the nation. The aspirations of the young to live in a prosperous, safe and \\nproud India should be the guiding factor in whatever profession we contribute. \\n \\nEmpower Villages \\nFriends, I recall my visit to Nagaland on 26th October 2002, soon after my assuming \\noffice as President. It was a unique experience for me at Khuza ma village to meet tribal \\nvillage council members and discuss with them the village progress  and the dream of \\nvillage citizens. I was very happy to see the empowered village  council functioning with \\nfinancial powers and taking decisions. I saw a prosperous village with fruits and \\nvegetables production. However, there is a need for providing physical c onnectivity in \\nNagaland through quality roads for enabling faster movement of produ cts from villages \\nto the market. That meeting gave me a powerful message about the t ransformation which \\ncan take place to the 600,000 villages of India, if all the villages a re empowered to deal \\nwith their development and are well connected among themselves and wit h the urban \\nsocieties. \\n \\nMobilizing rural core competence for competitiveness \\nNow I would like to talk about the initiative of Periyar Maniammai College of \\nTechnology for Women, Vallam, Tanjore of Providing Urban Amenities in Rural Areas \\n(PURA) complex involving 65 villages with a population of 3 lakhs. This inc ludes \\nprovision of three connectivities - physical, electronic and knowledge  - leading to \\neconomic connectivity. Periyar PURA has health care centers, pr imary to post graduate \\nlevel education and vocational training centers. This has resulted i n large-scale \\nemployment generation and creation of number of entrepreneurs with the  active support \\nof 1000 self-help groups. Two hundred acres of waste land has been develope d into a \\ncultivable land. The villagers are busy in cultivation, planting Jatropha, herbal and \\nmedicinal plants, power generation using bio-mass, food processing and above all \\nrunning marketing centers. It provides a sustainable economic development model for the \\nwhole region. \\n \\nDuring the last eight months, people of Periyar PURA villages technologically supported \\nby Periyar Maniammai College of Engineering for Women have w orked with experts \\nfrom Japan External Trade Organisation (JETRO) on various products, for  which core \\ncompetence and raw material are available in Thanjavur district. They developed \\ninternationally competitive prototypes for 55 life style products wi th support of JETRO \\nspecialists and feedback from exhibitions at Delhi and Tokyo. This co -operative venture \\nhas enhanced the innovative ability of the people of all the 65 villages  enabling them to \\ndevelop and produce internationally acceptable products. I have seen si milar type of \\nPURA being established in many states. The whole country needs 7000 PU RA to \\nbridging the rural – urban divide. \\n \\nSeed to Food: Backbone for agricultural growth'),\n",
       " Document(metadata={'source': 'apjspeech.pdf', 'page': 2}, page_content='Let me now share with you, the enriching experience I had, whil e meeting more than \\n6000 farmers from different States and Union Territories visitin g Rashtrapati Bhavan. \\nThey evinced keen interest in the Mughal Gardens, the Herbal Gardens , the Spiritual \\nGarden, the Musical Garden, the Bio-diesel garden and the Nutrition Garden and interact \\nwith the Horticultural specialists. Recently, during my address to the agricultural \\nscientists while participating in a National Symposium on “Agri culture Cannot Wait”, I \\nsummarized the many practical suggestions given by farmers. W e have to double the \\nagricultural production with reduced land, reduced water resources and re duced \\nmanpower and improve the economic conditions of the nation through the principle  of \\n“Seed to Food” since agriculture is the backbone of the nation. We should em power the \\nfarmers to protect and nurture the fertile land for second green re volution. Meeting the \\nScientists and the Farmers has given me the confidence \\nthat the nation is poised to increase the agricultural GDP growth by atleast 4% per annum \\nthrough the partnership of farmers and agricultural scientists a nd industries particularly \\nfor value addition. \\n \\nDefeat the problems and succeed \\nOn the evening of February 24, 2007, at Coimbatore, I had a very beautiful experience. \\nAs I got ready for meeting the first person out of twenty appoint ments, a wheel chair was \\nin sight with a smiling person probably in his late fifties; unfortunately he has no hands \\nand legs. His radiant face was revealing his happy state of mi nd. He introduced himself \\nas Vidwan Coimbatore SR Krishna Murthy. I greeted him and asked him  how this had \\nhappened. He smilingly said that it was from by birth. He thanked G od, his parents, \\nteachers and many others for giving him confidence, training and he lp. I asked him, what \\nI could do for him? He said, “I don’t need anything from you. I would like to sing in fr ont \\nof you”. I readily agreed. He sang melodiously the Saint Thyagraj a’s pancha ratna kriti \\nentharo mahanubavulu in Sriragam giving me a glimpse of his talent. I was quite touched. \\nWhat is the message? Despite being physically challenged, the latent talent of music \\ncould blossom in this \\nperson with his positive attitude and perseverance, encouraged by the parents, teachers, \\nacademics and rasikas. Now he wants to give, give and give his art to inspire others. Of \\ncourse, by his merit of music, in July 2007, he performed in the Rashtra pati Bhavan art \\ntheatre. \\n \\nOvercome the impact of disaster through partnership \\nI had the opportunity to experience the Indomitable Spirit of the people and children of \\nJammu & Kashmir even as they were just recovering from the de vastating earthquake in \\n2005. I visited Urusa village on 26th November 2005 which has been adopted by the  \\nWestern Air Command, Air Force for providing relief and medical aid to the residents of \\nthat area. When I went there, I found that the school building had been severely damaged. \\nI met all the school children and the village citizen of Urusa. The villagers apprised me of \\ntheir losses and had all praise for Army and Air Force role in rescue and relief operations \\nalong with state government. I appreciate the courage of the people of Urusa in defeating \\ntheir problems. They have actually become the master of the probl em rather than \\nallowing problems to become their master. Despite the severe l oss due to the earthquake,'),\n",
       " Document(metadata={'source': 'apjspeech.pdf', 'page': 3}, page_content='the children and the members of the village participated in the reli ef operation with the \\nArmed Forces \\nbravely and were smiling when I went to meet them. They interacted with me and said \\nthat the school was functional in the temporary tents. Here, I also witnessed the \\nparticipation of acting Chief Justice of Jammu & Kashmir along with State Government \\nauthorities in on-the-spot settlement of relief grants to be provide d to the victims whose \\nhouses had been damaged in the earth quake. I have experienced many s uch acts of \\ncourage from our citizens when faced with severe challenges. \\n \\nCourage in combating calamities \\nIn 2005, I met the Tribal Council Leaders, Students, Children of Chuckchucha village \\nduring my visit to Car Nicobar Islands. While various reconstruction a nd rehabilitation \\nactivities were in progress, during the discussions with the members  of tribal council, I \\nrealized the unique trait among the Car-Nicobar islanders. Even thoug h there were many \\nhuman losses due to the Tsunami of 26 Dec 2004, the tribal islanders had  taken \\npossession of affected victims as their children and there is nothi ng like orphanage in \\nCar-Nicobar Islands. Touched by their courage, I composed few vers es called “Sea \\nWaves” which reads as follows: \\nSea Waves \\n \\nWe are the children of Sea waves, \\nSea waves are my friends. \\nWhen they become angry, \\nSea waves give the challenges. \\nGod has given the courage, \\nTo challenge the sea waves. \\nAnd we will succeed, \\nWe will succeed \\nWith Almighty’s grace. \\nAll the members who were gathered in the village sang the poem with me and exhibited \\nlots of courage and enthusiasm even though they had gone through severe  suffering \\nduring the Tsunami. \\n \\nConnectivity for societal transformation \\nI addressed the Pan African Parliament on 16 September 2004, at Johannesburg, South \\nAfrica. This was attended by 53 member countries of the Africa n Union, where I \\nproposed the concept of Pan African e-Network for providing seamless and integrated \\nsatellite, fiber optics and wireless network connecting 53 African countries at an \\nestimated cost of US $ 100 million. \\n \\nAs part of the project 12 universities (7 from India and 5 from Africa), 17 Super \\nSpecialty Hospitals (12 from India and 5 from Africa), 53 tele-me dicine centers and 53 \\ntele-education centres in Africa will be connected. The pilot project on tele-education and \\ntele-medicine in Ethiopia has already been commissioned. Indira Gandh i National Open \\nUniversity has taken up the MBA Course for 34 Ethiopian students of Addis  Ababa and \\nHarmaya Universities. As regards, tele-medicine, the special ists from CARE Hospital,'),\n",
       " Document(metadata={'source': 'apjspeech.pdf', 'page': 4}, page_content='Hyderabad are providing one-hour live tele-consultation to doctors in B lack Lion \\nHospital, Addis Ababa in Cardiology and Radiology since November 2006. Using the \\nPan African network the Heads of the State in all the 53 countries  will be connected for \\ninstant communication. I am extremely happy that Indian experience  in bringing the \\nbenefits of technology to the people has enabled us to work with Afric a to bring societal \\ntransformation in the African continent. \\n \\nDefending the nation: Our pride \\nI visited KUMAR in Siachen Glacier located at 17,000 feet altitude held by the Indian \\nArmy, had a memorable underwater journey in INS Sindhurakshak and flew  in a Sukhoi-\\n30 fighter experiencing 2.5 g. In these three experiences, I personal ly felt proud of our \\never vigilant Soldiers, Sailors and Air Warriors performing their  tasks beyond the call of \\ntheir duty even in the most adverse circumstances natural and man m ade. During the last \\nfive years, I had an opportunity to present colours to many regime nts, participate in \\nnumber of passing out parades, meet the troops who were going to undertake  peace \\nmissions and interact with the family members of our Defence F orces. Our Defence \\nForces are in a beautiful mission. When the nation sleeps during night , Members of our \\nDefence teams are awake to guard us and remain vigilant to counte r any threat. The \\nNation cherishes the valour, commitment and devotion to duty of our Defenc e Forces. \\nSimilarly, I had opportunities to interact \\nwith members of our para-military forces, central and state police personnel including \\ninternal security forces who are making immense contribution in au gmenting the safety \\nand security of our citizens under difficult conditions. \\n \\nYouth movement for Developed India 2020 \\nRecently, in Hyderabad, I met a group of citizens who are putting into practice the motto \\nof transforming of our youth into enlightened citizen. The Lead India 2020 Found ation \\ncreated by Dr. N.B. Sudershan at Hyderabad is training thousands of s tudents in many \\ndistricts of Andhra Pradesh in partnership with the District Adm inistration. Particularly, I \\nhappened to know the transformation which has taken place among the students  of \\nMedak district. As per the district authorities the impact of the  training on the students is \\nvisible in terms of self-discipline, love for their parents and tea chers shedding of stage \\nfear and recognition of their duties towards the nation. I talke d to Ms. Padma, a student \\nleader from Andhra Pradesh Tribal Welfare School, Nalgonda who relat ed how she \\nweaned her father away from smoking after imbibing the spirit of  the 10 point oath from \\nthe Lead India Training Camp. This gives me an assurance that the  youth of our country \\nare on the right path \\nthrough this mission oriented programme. With the ignited minds of the 540 million \\nyouth below the age of 25, which I consider is the most powerful resour ce on the earth, \\nunder the earth and above the earth, we have to empower the youth through va lue based \\neducation and leadership. \\n \\nConclusion \\nI was touched by the variety of Indian panorama, emotional content of the tune, cultural \\ndiversity and unity of minds in the vast land of ours. I have cited thes e examples just to \\ngive a glimpse of the richness of our tradition and effort being taken by different agencies'),\n",
       " Document(metadata={'source': 'apjspeech.pdf', 'page': 5}, page_content='to preserve it. There are also many new adventures by instituti ons and individuals. I have \\nexperienced many of them and learnt a lot about my country and our peopl e. Even while \\npursuing our economic growth, we need to do a lot to preserve the rich and diverse \\ntreasures of our culture and civilization. It is our duty for our fut ure generations. This has \\nto be done in a much larger scale through countrywide participatio n of multiple \\ninstitutions. Our country is blessed with natural resources, has shown c onsiderable \\nprogress in the last sixty years, and above all we have hard wor king people particularly \\nthe power of the 540 million youth of the country. Every sector of our count ry has given \\nme the \\nconfidence that India can become a developed nation well before 2020. Whomsoever, I \\nmet they constantly ask what they can give to the nation. We should c onstantly strive to \\nempower such members of the society. With this spirit, I am extr emely happy that we are \\non the right path. Here I am reminded of a famous poem: \\n\"When you wish upon a star, \\nMakes no difference who you are, \\nAnything your heart desires, \\nWill come to you” \\nThis poem is true to all of us, and particularly for our youth and if they aim great, I am \\nsure they will reach close to the target or the target. \\n \\nMy dear citizens, let us resolve to continue to work for realizing the missions of \\ndeveloped India 2020 with the following distinctive profile. \\n \\n1. A Nation where the rural and urban divide has reduced to a thin line. \\n \\n2. A Nation where there is an equitable distribution and adequate access to energy and \\nquality water. \\n \\n3. A Nation where agriculture, industry and service sector work together in symphony. \\n \\n4. A Nation where education with value system is not denied to any meritorious \\ncandidates because of societal or economic discrimination. \\n \\n5. A Nation which is the best destination for the most talented scholars, scientists, and \\ninvestors. \\n \\n6. A Nation where the best of health care is available to all. \\n \\n7. A Nation where the governance is responsive, transparent and corruption free. \\n \\n8. A Nation where poverty has been totally eradicated, illiteracy removed and crimes \\nagainst women and children are absent and none in the society feels alienated. \\n \\n9. A Nation that is prosperous, healthy, secure, peaceful and happy and continues with a \\nsustainable growth path.'),\n",
       " Document(metadata={'source': 'apjspeech.pdf', 'page': 6}, page_content='10. A Nation that is one of the best places to live in and is proud of its leadership. \\n \\nFinally let me thank each one of you for showering your love and affection on me \\nthroughout the last five years by your cooperation and support. \\n \\nDear Citizens, I conclude my address by sharing with you my mission in life which is to \\nbring connectivity between billion hearts and minds of the people of Indi a in our \\nmulticultural society and to embed the self confidence that \"we c an do it\". I will be \\nalways with you, dear citizens, in the great mission of making Indi a a developed nation \\nbefore 2020. \\n \\nMay God bless you. \\n \\nJai hind. \\nDr. A. P. J. Abdul Kalam \\nwww.presidentofindia.nic.in')]"
      ]
     },
     "execution_count": 37,
     "metadata": {},
     "output_type": "execute_result"
    }
   ],
   "source": [
    "from langchain_community.document_loaders import PyPDFLoader\n",
    "loader=  PyPDFLoader('apjspeech.pdf')\n",
    "docs=loader.load_and_split()\n",
    "docs"
   ]
  },
  {
   "cell_type": "code",
   "execution_count": 38,
   "metadata": {},
   "outputs": [
    {
     "data": {
      "text/plain": [
       "PromptTemplate(input_variables=['text'], input_types={}, partial_variables={}, template='  \\nwrite a concise and short summary of the following speech, \\nSpeech: {text}\\n')"
      ]
     },
     "execution_count": 38,
     "metadata": {},
     "output_type": "execute_result"
    }
   ],
   "source": [
    "template= \"\"\"  \n",
    "write a concise and short summary of the following speech, \n",
    "Speech: {text}\n",
    "\"\"\"\n",
    "prompt=PromptTemplate(input_variables= ['text'],template=template )\n",
    "\n",
    "prompt\n"
   ]
  },
  {
   "cell_type": "code",
   "execution_count": 39,
   "metadata": {},
   "outputs": [
    {
     "name": "stdout",
     "output_type": "stream",
     "text": [
      "\n",
      "\n",
      "\u001b[1m> Entering new StuffDocumentsChain chain...\u001b[0m\n",
      "\n",
      "\n",
      "\u001b[1m> Entering new LLMChain chain...\u001b[0m\n",
      "Prompt after formatting:\n",
      "\u001b[32;1m\u001b[1;3m  \n",
      "write a concise and short summary of the following speech, \n",
      "Speech: A P J Abdul Kalam Departing speech \n",
      " \n",
      " \n",
      "Friends, I am delighted to address you all, in the country and those living abroad, after \n",
      "working with you and completing five beautiful and eventful years in Rashtrapati \n",
      "Bhavan. Today, it is indeed a thanks giving occasion. I would like to narr ate, how I \n",
      "enjoyed every minute of my tenure enriched by the wonderful assoc iation from each one \n",
      "of you, hailing from different walks of life, be it politics, sci ence and technology, \n",
      "academics, arts, literature, business, judiciary, administration, local bodies, farming, \n",
      "home makers, special children, media and above all from the youth and st udent \n",
      "community who are the future wealth of our country. During my intera ction at \n",
      "Rashtrapati Bhavan in Delhi and at every state and union territor y as well as through my \n",
      "online interactions, I have many unique experiences to share with you, which signify the \n",
      "following important messages: \n",
      " \n",
      "1. Accelerate development : Aspiration of the youth, \n",
      " \n",
      "2. Empower villages, \n",
      " \n",
      "3. Mobilize rural core competence for competitiveness, \n",
      " \n",
      "4. Seed to Food: Backbone for agricultural growth \n",
      " \n",
      "5. Defeat problems and succeed, \n",
      " \n",
      "6. Overcome problems through partnership, \n",
      " \n",
      "7. Courage in combating calamities, \n",
      " \n",
      "8. Connectivity for societal transformation, \n",
      " \n",
      "9. Defending the nation: Our pride and \n",
      " \n",
      "10. Youth movement for Developed India 2020. \n",
      " \n",
      "Now let me share with you each of the messages. \n",
      " \n",
      "Accelerate Development: Aspiration of the youth \n",
      "While there were many significant events during my tenure, a question from a little girl \n",
      "Anukriti of Sri Sathya Sai Jagriti Vidya Mandir School, of Dar wa village from Haryana, \n",
      "during children’s visit to Rashtrapati Bhavan on May 22, 2006, rings in my  mind ever \n",
      "after. \n",
      " \n",
      "Anukriti asked me “why India cannot become a developed nation before the year 2020”. I \n",
      "appreciated the question and said it was indeed a thoughtful question and assured her that \n",
      "that her dream would be taken to the highest institution of the nation and we would work\n",
      "\n",
      "for it to achieve before 2020. This question reflects how the desire t o live in developed \n",
      "India has entered into the minds of the youth. The same feelings are  echoed by over \n",
      "fifteen lakh youth, whom I have met so far and who represent the drea m of the 540 \n",
      "million youth of the nation. The aspirations of the young to live in a prosperous, safe and \n",
      "proud India should be the guiding factor in whatever profession we contribute. \n",
      " \n",
      "Empower Villages \n",
      "Friends, I recall my visit to Nagaland on 26th October 2002, soon after my assuming \n",
      "office as President. It was a unique experience for me at Khuza ma village to meet tribal \n",
      "village council members and discuss with them the village progress  and the dream of \n",
      "village citizens. I was very happy to see the empowered village  council functioning with \n",
      "financial powers and taking decisions. I saw a prosperous village with fruits and \n",
      "vegetables production. However, there is a need for providing physical c onnectivity in \n",
      "Nagaland through quality roads for enabling faster movement of produ cts from villages \n",
      "to the market. That meeting gave me a powerful message about the t ransformation which \n",
      "can take place to the 600,000 villages of India, if all the villages a re empowered to deal \n",
      "with their development and are well connected among themselves and wit h the urban \n",
      "societies. \n",
      " \n",
      "Mobilizing rural core competence for competitiveness \n",
      "Now I would like to talk about the initiative of Periyar Maniammai College of \n",
      "Technology for Women, Vallam, Tanjore of Providing Urban Amenities in Rural Areas \n",
      "(PURA) complex involving 65 villages with a population of 3 lakhs. This inc ludes \n",
      "provision of three connectivities - physical, electronic and knowledge  - leading to \n",
      "economic connectivity. Periyar PURA has health care centers, pr imary to post graduate \n",
      "level education and vocational training centers. This has resulted i n large-scale \n",
      "employment generation and creation of number of entrepreneurs with the  active support \n",
      "of 1000 self-help groups. Two hundred acres of waste land has been develope d into a \n",
      "cultivable land. The villagers are busy in cultivation, planting Jatropha, herbal and \n",
      "medicinal plants, power generation using bio-mass, food processing and above all \n",
      "running marketing centers. It provides a sustainable economic development model for the \n",
      "whole region. \n",
      " \n",
      "During the last eight months, people of Periyar PURA villages technologically supported \n",
      "by Periyar Maniammai College of Engineering for Women have w orked with experts \n",
      "from Japan External Trade Organisation (JETRO) on various products, for  which core \n",
      "competence and raw material are available in Thanjavur district. They developed \n",
      "internationally competitive prototypes for 55 life style products wi th support of JETRO \n",
      "specialists and feedback from exhibitions at Delhi and Tokyo. This co -operative venture \n",
      "has enhanced the innovative ability of the people of all the 65 villages  enabling them to \n",
      "develop and produce internationally acceptable products. I have seen si milar type of \n",
      "PURA being established in many states. The whole country needs 7000 PU RA to \n",
      "bridging the rural – urban divide. \n",
      " \n",
      "Seed to Food: Backbone for agricultural growth\n",
      "\n",
      "Let me now share with you, the enriching experience I had, whil e meeting more than \n",
      "6000 farmers from different States and Union Territories visitin g Rashtrapati Bhavan. \n",
      "They evinced keen interest in the Mughal Gardens, the Herbal Gardens , the Spiritual \n",
      "Garden, the Musical Garden, the Bio-diesel garden and the Nutrition Garden and interact \n",
      "with the Horticultural specialists. Recently, during my address to the agricultural \n",
      "scientists while participating in a National Symposium on “Agri culture Cannot Wait”, I \n",
      "summarized the many practical suggestions given by farmers. W e have to double the \n",
      "agricultural production with reduced land, reduced water resources and re duced \n",
      "manpower and improve the economic conditions of the nation through the principle  of \n",
      "“Seed to Food” since agriculture is the backbone of the nation. We should em power the \n",
      "farmers to protect and nurture the fertile land for second green re volution. Meeting the \n",
      "Scientists and the Farmers has given me the confidence \n",
      "that the nation is poised to increase the agricultural GDP growth by atleast 4% per annum \n",
      "through the partnership of farmers and agricultural scientists a nd industries particularly \n",
      "for value addition. \n",
      " \n",
      "Defeat the problems and succeed \n",
      "On the evening of February 24, 2007, at Coimbatore, I had a very beautiful experience. \n",
      "As I got ready for meeting the first person out of twenty appoint ments, a wheel chair was \n",
      "in sight with a smiling person probably in his late fifties; unfortunately he has no hands \n",
      "and legs. His radiant face was revealing his happy state of mi nd. He introduced himself \n",
      "as Vidwan Coimbatore SR Krishna Murthy. I greeted him and asked him  how this had \n",
      "happened. He smilingly said that it was from by birth. He thanked G od, his parents, \n",
      "teachers and many others for giving him confidence, training and he lp. I asked him, what \n",
      "I could do for him? He said, “I don’t need anything from you. I would like to sing in fr ont \n",
      "of you”. I readily agreed. He sang melodiously the Saint Thyagraj a’s pancha ratna kriti \n",
      "entharo mahanubavulu in Sriragam giving me a glimpse of his talent. I was quite touched. \n",
      "What is the message? Despite being physically challenged, the latent talent of music \n",
      "could blossom in this \n",
      "person with his positive attitude and perseverance, encouraged by the parents, teachers, \n",
      "academics and rasikas. Now he wants to give, give and give his art to inspire others. Of \n",
      "course, by his merit of music, in July 2007, he performed in the Rashtra pati Bhavan art \n",
      "theatre. \n",
      " \n",
      "Overcome the impact of disaster through partnership \n",
      "I had the opportunity to experience the Indomitable Spirit of the people and children of \n",
      "Jammu & Kashmir even as they were just recovering from the de vastating earthquake in \n",
      "2005. I visited Urusa village on 26th November 2005 which has been adopted by the  \n",
      "Western Air Command, Air Force for providing relief and medical aid to the residents of \n",
      "that area. When I went there, I found that the school building had been severely damaged. \n",
      "I met all the school children and the village citizen of Urusa. The villagers apprised me of \n",
      "their losses and had all praise for Army and Air Force role in rescue and relief operations \n",
      "along with state government. I appreciate the courage of the people of Urusa in defeating \n",
      "their problems. They have actually become the master of the probl em rather than \n",
      "allowing problems to become their master. Despite the severe l oss due to the earthquake,\n",
      "\n",
      "the children and the members of the village participated in the reli ef operation with the \n",
      "Armed Forces \n",
      "bravely and were smiling when I went to meet them. They interacted with me and said \n",
      "that the school was functional in the temporary tents. Here, I also witnessed the \n",
      "participation of acting Chief Justice of Jammu & Kashmir along with State Government \n",
      "authorities in on-the-spot settlement of relief grants to be provide d to the victims whose \n",
      "houses had been damaged in the earth quake. I have experienced many s uch acts of \n",
      "courage from our citizens when faced with severe challenges. \n",
      " \n",
      "Courage in combating calamities \n",
      "In 2005, I met the Tribal Council Leaders, Students, Children of Chuckchucha village \n",
      "during my visit to Car Nicobar Islands. While various reconstruction a nd rehabilitation \n",
      "activities were in progress, during the discussions with the members  of tribal council, I \n",
      "realized the unique trait among the Car-Nicobar islanders. Even thoug h there were many \n",
      "human losses due to the Tsunami of 26 Dec 2004, the tribal islanders had  taken \n",
      "possession of affected victims as their children and there is nothi ng like orphanage in \n",
      "Car-Nicobar Islands. Touched by their courage, I composed few vers es called “Sea \n",
      "Waves” which reads as follows: \n",
      "Sea Waves \n",
      " \n",
      "We are the children of Sea waves, \n",
      "Sea waves are my friends. \n",
      "When they become angry, \n",
      "Sea waves give the challenges. \n",
      "God has given the courage, \n",
      "To challenge the sea waves. \n",
      "And we will succeed, \n",
      "We will succeed \n",
      "With Almighty’s grace. \n",
      "All the members who were gathered in the village sang the poem with me and exhibited \n",
      "lots of courage and enthusiasm even though they had gone through severe  suffering \n",
      "during the Tsunami. \n",
      " \n",
      "Connectivity for societal transformation \n",
      "I addressed the Pan African Parliament on 16 September 2004, at Johannesburg, South \n",
      "Africa. This was attended by 53 member countries of the Africa n Union, where I \n",
      "proposed the concept of Pan African e-Network for providing seamless and integrated \n",
      "satellite, fiber optics and wireless network connecting 53 African countries at an \n",
      "estimated cost of US $ 100 million. \n",
      " \n",
      "As part of the project 12 universities (7 from India and 5 from Africa), 17 Super \n",
      "Specialty Hospitals (12 from India and 5 from Africa), 53 tele-me dicine centers and 53 \n",
      "tele-education centres in Africa will be connected. The pilot project on tele-education and \n",
      "tele-medicine in Ethiopia has already been commissioned. Indira Gandh i National Open \n",
      "University has taken up the MBA Course for 34 Ethiopian students of Addis  Ababa and \n",
      "Harmaya Universities. As regards, tele-medicine, the special ists from CARE Hospital,\n",
      "\n",
      "Hyderabad are providing one-hour live tele-consultation to doctors in B lack Lion \n",
      "Hospital, Addis Ababa in Cardiology and Radiology since November 2006. Using the \n",
      "Pan African network the Heads of the State in all the 53 countries  will be connected for \n",
      "instant communication. I am extremely happy that Indian experience  in bringing the \n",
      "benefits of technology to the people has enabled us to work with Afric a to bring societal \n",
      "transformation in the African continent. \n",
      " \n",
      "Defending the nation: Our pride \n",
      "I visited KUMAR in Siachen Glacier located at 17,000 feet altitude held by the Indian \n",
      "Army, had a memorable underwater journey in INS Sindhurakshak and flew  in a Sukhoi-\n",
      "30 fighter experiencing 2.5 g. In these three experiences, I personal ly felt proud of our \n",
      "ever vigilant Soldiers, Sailors and Air Warriors performing their  tasks beyond the call of \n",
      "their duty even in the most adverse circumstances natural and man m ade. During the last \n",
      "five years, I had an opportunity to present colours to many regime nts, participate in \n",
      "number of passing out parades, meet the troops who were going to undertake  peace \n",
      "missions and interact with the family members of our Defence F orces. Our Defence \n",
      "Forces are in a beautiful mission. When the nation sleeps during night , Members of our \n",
      "Defence teams are awake to guard us and remain vigilant to counte r any threat. The \n",
      "Nation cherishes the valour, commitment and devotion to duty of our Defenc e Forces. \n",
      "Similarly, I had opportunities to interact \n",
      "with members of our para-military forces, central and state police personnel including \n",
      "internal security forces who are making immense contribution in au gmenting the safety \n",
      "and security of our citizens under difficult conditions. \n",
      " \n",
      "Youth movement for Developed India 2020 \n",
      "Recently, in Hyderabad, I met a group of citizens who are putting into practice the motto \n",
      "of transforming of our youth into enlightened citizen. The Lead India 2020 Found ation \n",
      "created by Dr. N.B. Sudershan at Hyderabad is training thousands of s tudents in many \n",
      "districts of Andhra Pradesh in partnership with the District Adm inistration. Particularly, I \n",
      "happened to know the transformation which has taken place among the students  of \n",
      "Medak district. As per the district authorities the impact of the  training on the students is \n",
      "visible in terms of self-discipline, love for their parents and tea chers shedding of stage \n",
      "fear and recognition of their duties towards the nation. I talke d to Ms. Padma, a student \n",
      "leader from Andhra Pradesh Tribal Welfare School, Nalgonda who relat ed how she \n",
      "weaned her father away from smoking after imbibing the spirit of  the 10 point oath from \n",
      "the Lead India Training Camp. This gives me an assurance that the  youth of our country \n",
      "are on the right path \n",
      "through this mission oriented programme. With the ignited minds of the 540 million \n",
      "youth below the age of 25, which I consider is the most powerful resour ce on the earth, \n",
      "under the earth and above the earth, we have to empower the youth through va lue based \n",
      "education and leadership. \n",
      " \n",
      "Conclusion \n",
      "I was touched by the variety of Indian panorama, emotional content of the tune, cultural \n",
      "diversity and unity of minds in the vast land of ours. I have cited thes e examples just to \n",
      "give a glimpse of the richness of our tradition and effort being taken by different agencies\n",
      "\n",
      "to preserve it. There are also many new adventures by instituti ons and individuals. I have \n",
      "experienced many of them and learnt a lot about my country and our peopl e. Even while \n",
      "pursuing our economic growth, we need to do a lot to preserve the rich and diverse \n",
      "treasures of our culture and civilization. It is our duty for our fut ure generations. This has \n",
      "to be done in a much larger scale through countrywide participatio n of multiple \n",
      "institutions. Our country is blessed with natural resources, has shown c onsiderable \n",
      "progress in the last sixty years, and above all we have hard wor king people particularly \n",
      "the power of the 540 million youth of the country. Every sector of our count ry has given \n",
      "me the \n",
      "confidence that India can become a developed nation well before 2020. Whomsoever, I \n",
      "met they constantly ask what they can give to the nation. We should c onstantly strive to \n",
      "empower such members of the society. With this spirit, I am extr emely happy that we are \n",
      "on the right path. Here I am reminded of a famous poem: \n",
      "\"When you wish upon a star, \n",
      "Makes no difference who you are, \n",
      "Anything your heart desires, \n",
      "Will come to you” \n",
      "This poem is true to all of us, and particularly for our youth and if they aim great, I am \n",
      "sure they will reach close to the target or the target. \n",
      " \n",
      "My dear citizens, let us resolve to continue to work for realizing the missions of \n",
      "developed India 2020 with the following distinctive profile. \n",
      " \n",
      "1. A Nation where the rural and urban divide has reduced to a thin line. \n",
      " \n",
      "2. A Nation where there is an equitable distribution and adequate access to energy and \n",
      "quality water. \n",
      " \n",
      "3. A Nation where agriculture, industry and service sector work together in symphony. \n",
      " \n",
      "4. A Nation where education with value system is not denied to any meritorious \n",
      "candidates because of societal or economic discrimination. \n",
      " \n",
      "5. A Nation which is the best destination for the most talented scholars, scientists, and \n",
      "investors. \n",
      " \n",
      "6. A Nation where the best of health care is available to all. \n",
      " \n",
      "7. A Nation where the governance is responsive, transparent and corruption free. \n",
      " \n",
      "8. A Nation where poverty has been totally eradicated, illiteracy removed and crimes \n",
      "against women and children are absent and none in the society feels alienated. \n",
      " \n",
      "9. A Nation that is prosperous, healthy, secure, peaceful and happy and continues with a \n",
      "sustainable growth path.\n",
      "\n",
      "10. A Nation that is one of the best places to live in and is proud of its leadership. \n",
      " \n",
      "Finally let me thank each one of you for showering your love and affection on me \n",
      "throughout the last five years by your cooperation and support. \n",
      " \n",
      "Dear Citizens, I conclude my address by sharing with you my mission in life which is to \n",
      "bring connectivity between billion hearts and minds of the people of Indi a in our \n",
      "multicultural society and to embed the self confidence that \"we c an do it\". I will be \n",
      "always with you, dear citizens, in the great mission of making Indi a a developed nation \n",
      "before 2020. \n",
      " \n",
      "May God bless you. \n",
      " \n",
      "Jai hind. \n",
      "Dr. A. P. J. Abdul Kalam \n",
      "www.presidentofindia.nic.in\n",
      "\u001b[0m\n",
      "\n",
      "\u001b[1m> Finished chain.\u001b[0m\n",
      "\n",
      "\u001b[1m> Finished chain.\u001b[0m\n"
     ]
    },
    {
     "data": {
      "text/plain": [
       "'President A.P.J. Abdul Kalam, in his departing speech, highlights ten key messages for India\\'s development. \\n\\nHe emphasizes the aspirations of the youth to see India become a developed nation by 2020, urging empowerment of villages, their connectivity, and utilizing their core competence.  He stresses the importance of \"Seed to Food\" for agricultural growth, and how overcoming challenges through partnership is essential.\\n\\nKalam celebrates the courage of individuals facing calamities and the transformative power of connectivity through initiatives like the Pan African e-Network. He expresses pride in India\\'s defense forces and salutes their dedication to national security.\\n\\nFinally, he focuses on the potential of the youth, urging value-based education and leadership to achieve a developed India characterized by reduced rural-urban divide, equitable access to resources, a thriving economy, quality education for all, and a corruption-free, prosperous, and peaceful society.\\n\\n\\nHis speech is a call to action, urging all citizens to work together to build a brighter future for India. \\n\\n'"
      ]
     },
     "execution_count": 39,
     "metadata": {},
     "output_type": "execute_result"
    }
   ],
   "source": [
    "from langchain.chains.summarize import load_summarize_chain\n",
    "chain= load_summarize_chain(llm, chain_type='stuff', prompt=prompt, verbose=True)\n",
    "output= chain.run(docs)\n",
    "output"
   ]
  },
  {
   "cell_type": "code",
   "execution_count": 40,
   "metadata": {},
   "outputs": [
    {
     "data": {
      "text/plain": [
       "[Document(metadata={'source': 'apjspeech.pdf', 'page': 0}, page_content='A P J Abdul Kalam Departing speech \\n \\n \\nFriends, I am delighted to address you all, in the country and those living abroad, after \\nworking with you and completing five beautiful and eventful years in Rashtrapati \\nBhavan. Today, it is indeed a thanks giving occasion. I would like to narr ate, how I \\nenjoyed every minute of my tenure enriched by the wonderful assoc iation from each one \\nof you, hailing from different walks of life, be it politics, sci ence and technology, \\nacademics, arts, literature, business, judiciary, administration, local bodies, farming, \\nhome makers, special children, media and above all from the youth and st udent \\ncommunity who are the future wealth of our country. During my intera ction at \\nRashtrapati Bhavan in Delhi and at every state and union territor y as well as through my \\nonline interactions, I have many unique experiences to share with you, which signify the \\nfollowing important messages: \\n \\n1. Accelerate development : Aspiration of the youth, \\n \\n2. Empower villages, \\n \\n3. Mobilize rural core competence for competitiveness, \\n \\n4. Seed to Food: Backbone for agricultural growth \\n \\n5. Defeat problems and succeed, \\n \\n6. Overcome problems through partnership, \\n \\n7. Courage in combating calamities, \\n \\n8. Connectivity for societal transformation, \\n \\n9. Defending the nation: Our pride and \\n \\n10. Youth movement for Developed India 2020. \\n \\nNow let me share with you each of the messages. \\n \\nAccelerate Development: Aspiration of the youth \\nWhile there were many significant events during my tenure, a question from a little girl \\nAnukriti of Sri Sathya Sai Jagriti Vidya Mandir School, of Dar wa village from Haryana, \\nduring children’s visit to Rashtrapati Bhavan on May 22, 2006, rings in my  mind ever \\nafter. \\n \\nAnukriti asked me “why India cannot become a developed nation before the year 2020”. I \\nappreciated the question and said it was indeed a thoughtful question and assured her that \\nthat her dream would be taken to the highest institution of the nation and we would work'),\n",
       " Document(metadata={'source': 'apjspeech.pdf', 'page': 1}, page_content='for it to achieve before 2020. This question reflects how the desire t o live in developed \\nIndia has entered into the minds of the youth. The same feelings are  echoed by over \\nfifteen lakh youth, whom I have met so far and who represent the drea m of the 540 \\nmillion youth of the nation. The aspirations of the young to live in a prosperous, safe and \\nproud India should be the guiding factor in whatever profession we contribute. \\n \\nEmpower Villages \\nFriends, I recall my visit to Nagaland on 26th October 2002, soon after my assuming \\noffice as President. It was a unique experience for me at Khuza ma village to meet tribal \\nvillage council members and discuss with them the village progress  and the dream of \\nvillage citizens. I was very happy to see the empowered village  council functioning with \\nfinancial powers and taking decisions. I saw a prosperous village with fruits and \\nvegetables production. However, there is a need for providing physical c onnectivity in \\nNagaland through quality roads for enabling faster movement of produ cts from villages \\nto the market. That meeting gave me a powerful message about the t ransformation which \\ncan take place to the 600,000 villages of India, if all the villages a re empowered to deal \\nwith their development and are well connected among themselves and wit h the urban \\nsocieties. \\n \\nMobilizing rural core competence for competitiveness \\nNow I would like to talk about the initiative of Periyar Maniammai College of \\nTechnology for Women, Vallam, Tanjore of Providing Urban Amenities in Rural Areas \\n(PURA) complex involving 65 villages with a population of 3 lakhs. This inc ludes \\nprovision of three connectivities - physical, electronic and knowledge  - leading to \\neconomic connectivity. Periyar PURA has health care centers, pr imary to post graduate \\nlevel education and vocational training centers. This has resulted i n large-scale \\nemployment generation and creation of number of entrepreneurs with the  active support \\nof 1000 self-help groups. Two hundred acres of waste land has been develope d into a \\ncultivable land. The villagers are busy in cultivation, planting Jatropha, herbal and \\nmedicinal plants, power generation using bio-mass, food processing and above all \\nrunning marketing centers. It provides a sustainable economic development model for the \\nwhole region. \\n \\nDuring the last eight months, people of Periyar PURA villages technologically supported \\nby Periyar Maniammai College of Engineering for Women have w orked with experts \\nfrom Japan External Trade Organisation (JETRO) on various products, for  which core \\ncompetence and raw material are available in Thanjavur district. They developed \\ninternationally competitive prototypes for 55 life style products wi th support of JETRO \\nspecialists and feedback from exhibitions at Delhi and Tokyo. This co -operative venture \\nhas enhanced the innovative ability of the people of all the 65 villages  enabling them to \\ndevelop and produce internationally acceptable products. I have seen si milar type of \\nPURA being established in many states. The whole country needs 7000 PU RA to \\nbridging the rural – urban divide. \\n \\nSeed to Food: Backbone for agricultural growth'),\n",
       " Document(metadata={'source': 'apjspeech.pdf', 'page': 2}, page_content='Let me now share with you, the enriching experience I had, whil e meeting more than \\n6000 farmers from different States and Union Territories visitin g Rashtrapati Bhavan. \\nThey evinced keen interest in the Mughal Gardens, the Herbal Gardens , the Spiritual \\nGarden, the Musical Garden, the Bio-diesel garden and the Nutrition Garden and interact \\nwith the Horticultural specialists. Recently, during my address to the agricultural \\nscientists while participating in a National Symposium on “Agri culture Cannot Wait”, I \\nsummarized the many practical suggestions given by farmers. W e have to double the \\nagricultural production with reduced land, reduced water resources and re duced \\nmanpower and improve the economic conditions of the nation through the principle  of \\n“Seed to Food” since agriculture is the backbone of the nation. We should em power the \\nfarmers to protect and nurture the fertile land for second green re volution. Meeting the \\nScientists and the Farmers has given me the confidence \\nthat the nation is poised to increase the agricultural GDP growth by atleast 4% per annum \\nthrough the partnership of farmers and agricultural scientists a nd industries particularly \\nfor value addition. \\n \\nDefeat the problems and succeed \\nOn the evening of February 24, 2007, at Coimbatore, I had a very beautiful experience. \\nAs I got ready for meeting the first person out of twenty appoint ments, a wheel chair was \\nin sight with a smiling person probably in his late fifties; unfortunately he has no hands \\nand legs. His radiant face was revealing his happy state of mi nd. He introduced himself \\nas Vidwan Coimbatore SR Krishna Murthy. I greeted him and asked him  how this had \\nhappened. He smilingly said that it was from by birth. He thanked G od, his parents, \\nteachers and many others for giving him confidence, training and he lp. I asked him, what \\nI could do for him? He said, “I don’t need anything from you. I would like to sing in fr ont \\nof you”. I readily agreed. He sang melodiously the Saint Thyagraj a’s pancha ratna kriti \\nentharo mahanubavulu in Sriragam giving me a glimpse of his talent. I was quite touched. \\nWhat is the message? Despite being physically challenged, the latent talent of music \\ncould blossom in this \\nperson with his positive attitude and perseverance, encouraged by the parents, teachers, \\nacademics and rasikas. Now he wants to give, give and give his art to inspire others. Of \\ncourse, by his merit of music, in July 2007, he performed in the Rashtra pati Bhavan art \\ntheatre. \\n \\nOvercome the impact of disaster through partnership \\nI had the opportunity to experience the Indomitable Spirit of the people and children of \\nJammu & Kashmir even as they were just recovering from the de vastating earthquake in \\n2005. I visited Urusa village on 26th November 2005 which has been adopted by the  \\nWestern Air Command, Air Force for providing relief and medical aid to the residents of \\nthat area. When I went there, I found that the school building had been severely damaged. \\nI met all the school children and the village citizen of Urusa. The villagers apprised me of \\ntheir losses and had all praise for Army and Air Force role in rescue and relief operations \\nalong with state government. I appreciate the courage of the people of Urusa in defeating \\ntheir problems. They have actually become the master of the probl em rather than \\nallowing problems to become their master. Despite the severe l oss due to the earthquake,'),\n",
       " Document(metadata={'source': 'apjspeech.pdf', 'page': 3}, page_content='the children and the members of the village participated in the reli ef operation with the \\nArmed Forces \\nbravely and were smiling when I went to meet them. They interacted with me and said \\nthat the school was functional in the temporary tents. Here, I also witnessed the \\nparticipation of acting Chief Justice of Jammu & Kashmir along with State Government \\nauthorities in on-the-spot settlement of relief grants to be provide d to the victims whose \\nhouses had been damaged in the earth quake. I have experienced many s uch acts of \\ncourage from our citizens when faced with severe challenges. \\n \\nCourage in combating calamities \\nIn 2005, I met the Tribal Council Leaders, Students, Children of Chuckchucha village \\nduring my visit to Car Nicobar Islands. While various reconstruction a nd rehabilitation \\nactivities were in progress, during the discussions with the members  of tribal council, I \\nrealized the unique trait among the Car-Nicobar islanders. Even thoug h there were many \\nhuman losses due to the Tsunami of 26 Dec 2004, the tribal islanders had  taken \\npossession of affected victims as their children and there is nothi ng like orphanage in \\nCar-Nicobar Islands. Touched by their courage, I composed few vers es called “Sea \\nWaves” which reads as follows: \\nSea Waves \\n \\nWe are the children of Sea waves, \\nSea waves are my friends. \\nWhen they become angry, \\nSea waves give the challenges. \\nGod has given the courage, \\nTo challenge the sea waves. \\nAnd we will succeed, \\nWe will succeed \\nWith Almighty’s grace. \\nAll the members who were gathered in the village sang the poem with me and exhibited \\nlots of courage and enthusiasm even though they had gone through severe  suffering \\nduring the Tsunami. \\n \\nConnectivity for societal transformation \\nI addressed the Pan African Parliament on 16 September 2004, at Johannesburg, South \\nAfrica. This was attended by 53 member countries of the Africa n Union, where I \\nproposed the concept of Pan African e-Network for providing seamless and integrated \\nsatellite, fiber optics and wireless network connecting 53 African countries at an \\nestimated cost of US $ 100 million. \\n \\nAs part of the project 12 universities (7 from India and 5 from Africa), 17 Super \\nSpecialty Hospitals (12 from India and 5 from Africa), 53 tele-me dicine centers and 53 \\ntele-education centres in Africa will be connected. The pilot project on tele-education and \\ntele-medicine in Ethiopia has already been commissioned. Indira Gandh i National Open \\nUniversity has taken up the MBA Course for 34 Ethiopian students of Addis  Ababa and \\nHarmaya Universities. As regards, tele-medicine, the special ists from CARE Hospital,'),\n",
       " Document(metadata={'source': 'apjspeech.pdf', 'page': 4}, page_content='Hyderabad are providing one-hour live tele-consultation to doctors in B lack Lion \\nHospital, Addis Ababa in Cardiology and Radiology since November 2006. Using the \\nPan African network the Heads of the State in all the 53 countries  will be connected for \\ninstant communication. I am extremely happy that Indian experience  in bringing the \\nbenefits of technology to the people has enabled us to work with Afric a to bring societal \\ntransformation in the African continent. \\n \\nDefending the nation: Our pride \\nI visited KUMAR in Siachen Glacier located at 17,000 feet altitude held by the Indian \\nArmy, had a memorable underwater journey in INS Sindhurakshak and flew  in a Sukhoi-\\n30 fighter experiencing 2.5 g. In these three experiences, I personal ly felt proud of our \\never vigilant Soldiers, Sailors and Air Warriors performing their  tasks beyond the call of \\ntheir duty even in the most adverse circumstances natural and man m ade. During the last \\nfive years, I had an opportunity to present colours to many regime nts, participate in \\nnumber of passing out parades, meet the troops who were going to undertake  peace \\nmissions and interact with the family members of our Defence F orces. Our Defence \\nForces are in a beautiful mission. When the nation sleeps during night , Members of our \\nDefence teams are awake to guard us and remain vigilant to counte r any threat. The \\nNation cherishes the valour, commitment and devotion to duty of our Defenc e Forces. \\nSimilarly, I had opportunities to interact \\nwith members of our para-military forces, central and state police personnel including \\ninternal security forces who are making immense contribution in au gmenting the safety \\nand security of our citizens under difficult conditions. \\n \\nYouth movement for Developed India 2020 \\nRecently, in Hyderabad, I met a group of citizens who are putting into practice the motto \\nof transforming of our youth into enlightened citizen. The Lead India 2020 Found ation \\ncreated by Dr. N.B. Sudershan at Hyderabad is training thousands of s tudents in many \\ndistricts of Andhra Pradesh in partnership with the District Adm inistration. Particularly, I \\nhappened to know the transformation which has taken place among the students  of \\nMedak district. As per the district authorities the impact of the  training on the students is \\nvisible in terms of self-discipline, love for their parents and tea chers shedding of stage \\nfear and recognition of their duties towards the nation. I talke d to Ms. Padma, a student \\nleader from Andhra Pradesh Tribal Welfare School, Nalgonda who relat ed how she \\nweaned her father away from smoking after imbibing the spirit of  the 10 point oath from \\nthe Lead India Training Camp. This gives me an assurance that the  youth of our country \\nare on the right path \\nthrough this mission oriented programme. With the ignited minds of the 540 million \\nyouth below the age of 25, which I consider is the most powerful resour ce on the earth, \\nunder the earth and above the earth, we have to empower the youth through va lue based \\neducation and leadership. \\n \\nConclusion \\nI was touched by the variety of Indian panorama, emotional content of the tune, cultural \\ndiversity and unity of minds in the vast land of ours. I have cited thes e examples just to \\ngive a glimpse of the richness of our tradition and effort being taken by different agencies'),\n",
       " Document(metadata={'source': 'apjspeech.pdf', 'page': 5}, page_content='to preserve it. There are also many new adventures by instituti ons and individuals. I have \\nexperienced many of them and learnt a lot about my country and our peopl e. Even while \\npursuing our economic growth, we need to do a lot to preserve the rich and diverse \\ntreasures of our culture and civilization. It is our duty for our fut ure generations. This has \\nto be done in a much larger scale through countrywide participatio n of multiple \\ninstitutions. Our country is blessed with natural resources, has shown c onsiderable \\nprogress in the last sixty years, and above all we have hard wor king people particularly \\nthe power of the 540 million youth of the country. Every sector of our count ry has given \\nme the \\nconfidence that India can become a developed nation well before 2020. Whomsoever, I \\nmet they constantly ask what they can give to the nation. We should c onstantly strive to \\nempower such members of the society. With this spirit, I am extr emely happy that we are \\non the right path. Here I am reminded of a famous poem: \\n\"When you wish upon a star, \\nMakes no difference who you are, \\nAnything your heart desires, \\nWill come to you” \\nThis poem is true to all of us, and particularly for our youth and if they aim great, I am \\nsure they will reach close to the target or the target. \\n \\nMy dear citizens, let us resolve to continue to work for realizing the missions of \\ndeveloped India 2020 with the following distinctive profile. \\n \\n1. A Nation where the rural and urban divide has reduced to a thin line. \\n \\n2. A Nation where there is an equitable distribution and adequate access to energy and \\nquality water. \\n \\n3. A Nation where agriculture, industry and service sector work together in symphony. \\n \\n4. A Nation where education with value system is not denied to any meritorious \\ncandidates because of societal or economic discrimination. \\n \\n5. A Nation which is the best destination for the most talented scholars, scientists, and \\ninvestors. \\n \\n6. A Nation where the best of health care is available to all. \\n \\n7. A Nation where the governance is responsive, transparent and corruption free. \\n \\n8. A Nation where poverty has been totally eradicated, illiteracy removed and crimes \\nagainst women and children are absent and none in the society feels alienated. \\n \\n9. A Nation that is prosperous, healthy, secure, peaceful and happy and continues with a \\nsustainable growth path.'),\n",
       " Document(metadata={'source': 'apjspeech.pdf', 'page': 6}, page_content='10. A Nation that is one of the best places to live in and is proud of its leadership. \\n \\nFinally let me thank each one of you for showering your love and affection on me \\nthroughout the last five years by your cooperation and support. \\n \\nDear Citizens, I conclude my address by sharing with you my mission in life which is to \\nbring connectivity between billion hearts and minds of the people of Indi a in our \\nmulticultural society and to embed the self confidence that \"we c an do it\". I will be \\nalways with you, dear citizens, in the great mission of making Indi a a developed nation \\nbefore 2020. \\n \\nMay God bless you. \\n \\nJai hind. \\nDr. A. P. J. Abdul Kalam \\nwww.presidentofindia.nic.in')]"
      ]
     },
     "execution_count": 40,
     "metadata": {},
     "output_type": "execute_result"
    }
   ],
   "source": [
    "#Map Reduce\n",
    "\n",
    "from langchain.text_splitter import RecursiveCharacterTextSplitter\n",
    "docs"
   ]
  },
  {
   "cell_type": "code",
   "execution_count": 41,
   "metadata": {},
   "outputs": [
    {
     "data": {
      "text/plain": [
       "[Document(metadata={'source': 'apjspeech.pdf', 'page': 0}, page_content='A P J Abdul Kalam Departing speech \\n \\n \\nFriends, I am delighted to address you all, in the country and those living abroad, after \\nworking with you and completing five beautiful and eventful years in Rashtrapati \\nBhavan. Today, it is indeed a thanks giving occasion. I would like to narr ate, how I \\nenjoyed every minute of my tenure enriched by the wonderful assoc iation from each one \\nof you, hailing from different walks of life, be it politics, sci ence and technology, \\nacademics, arts, literature, business, judiciary, administration, local bodies, farming, \\nhome makers, special children, media and above all from the youth and st udent \\ncommunity who are the future wealth of our country. During my intera ction at \\nRashtrapati Bhavan in Delhi and at every state and union territor y as well as through my \\nonline interactions, I have many unique experiences to share with you, which signify the \\nfollowing important messages: \\n \\n1. Accelerate development : Aspiration of the youth,'),\n",
       " Document(metadata={'source': 'apjspeech.pdf', 'page': 0}, page_content='2. Empower villages, \\n \\n3. Mobilize rural core competence for competitiveness, \\n \\n4. Seed to Food: Backbone for agricultural growth \\n \\n5. Defeat problems and succeed, \\n \\n6. Overcome problems through partnership, \\n \\n7. Courage in combating calamities, \\n \\n8. Connectivity for societal transformation, \\n \\n9. Defending the nation: Our pride and \\n \\n10. Youth movement for Developed India 2020. \\n \\nNow let me share with you each of the messages. \\n \\nAccelerate Development: Aspiration of the youth \\nWhile there were many significant events during my tenure, a question from a little girl \\nAnukriti of Sri Sathya Sai Jagriti Vidya Mandir School, of Dar wa village from Haryana, \\nduring children’s visit to Rashtrapati Bhavan on May 22, 2006, rings in my  mind ever \\nafter. \\n \\nAnukriti asked me “why India cannot become a developed nation before the year 2020”. I \\nappreciated the question and said it was indeed a thoughtful question and assured her that'),\n",
       " Document(metadata={'source': 'apjspeech.pdf', 'page': 0}, page_content='that her dream would be taken to the highest institution of the nation and we would work'),\n",
       " Document(metadata={'source': 'apjspeech.pdf', 'page': 1}, page_content='for it to achieve before 2020. This question reflects how the desire t o live in developed \\nIndia has entered into the minds of the youth. The same feelings are  echoed by over \\nfifteen lakh youth, whom I have met so far and who represent the drea m of the 540 \\nmillion youth of the nation. The aspirations of the young to live in a prosperous, safe and \\nproud India should be the guiding factor in whatever profession we contribute. \\n \\nEmpower Villages \\nFriends, I recall my visit to Nagaland on 26th October 2002, soon after my assuming \\noffice as President. It was a unique experience for me at Khuza ma village to meet tribal \\nvillage council members and discuss with them the village progress  and the dream of \\nvillage citizens. I was very happy to see the empowered village  council functioning with \\nfinancial powers and taking decisions. I saw a prosperous village with fruits and \\nvegetables production. However, there is a need for providing physical c onnectivity in'),\n",
       " Document(metadata={'source': 'apjspeech.pdf', 'page': 1}, page_content='Nagaland through quality roads for enabling faster movement of produ cts from villages \\nto the market. That meeting gave me a powerful message about the t ransformation which \\ncan take place to the 600,000 villages of India, if all the villages a re empowered to deal \\nwith their development and are well connected among themselves and wit h the urban \\nsocieties. \\n \\nMobilizing rural core competence for competitiveness \\nNow I would like to talk about the initiative of Periyar Maniammai College of \\nTechnology for Women, Vallam, Tanjore of Providing Urban Amenities in Rural Areas \\n(PURA) complex involving 65 villages with a population of 3 lakhs. This inc ludes \\nprovision of three connectivities - physical, electronic and knowledge  - leading to \\neconomic connectivity. Periyar PURA has health care centers, pr imary to post graduate \\nlevel education and vocational training centers. This has resulted i n large-scale'),\n",
       " Document(metadata={'source': 'apjspeech.pdf', 'page': 1}, page_content='employment generation and creation of number of entrepreneurs with the  active support \\nof 1000 self-help groups. Two hundred acres of waste land has been develope d into a \\ncultivable land. The villagers are busy in cultivation, planting Jatropha, herbal and \\nmedicinal plants, power generation using bio-mass, food processing and above all \\nrunning marketing centers. It provides a sustainable economic development model for the \\nwhole region. \\n \\nDuring the last eight months, people of Periyar PURA villages technologically supported \\nby Periyar Maniammai College of Engineering for Women have w orked with experts \\nfrom Japan External Trade Organisation (JETRO) on various products, for  which core \\ncompetence and raw material are available in Thanjavur district. They developed \\ninternationally competitive prototypes for 55 life style products wi th support of JETRO \\nspecialists and feedback from exhibitions at Delhi and Tokyo. This co -operative venture'),\n",
       " Document(metadata={'source': 'apjspeech.pdf', 'page': 1}, page_content='has enhanced the innovative ability of the people of all the 65 villages  enabling them to \\ndevelop and produce internationally acceptable products. I have seen si milar type of \\nPURA being established in many states. The whole country needs 7000 PU RA to \\nbridging the rural – urban divide. \\n \\nSeed to Food: Backbone for agricultural growth'),\n",
       " Document(metadata={'source': 'apjspeech.pdf', 'page': 2}, page_content='Let me now share with you, the enriching experience I had, whil e meeting more than \\n6000 farmers from different States and Union Territories visitin g Rashtrapati Bhavan. \\nThey evinced keen interest in the Mughal Gardens, the Herbal Gardens , the Spiritual \\nGarden, the Musical Garden, the Bio-diesel garden and the Nutrition Garden and interact \\nwith the Horticultural specialists. Recently, during my address to the agricultural \\nscientists while participating in a National Symposium on “Agri culture Cannot Wait”, I \\nsummarized the many practical suggestions given by farmers. W e have to double the \\nagricultural production with reduced land, reduced water resources and re duced \\nmanpower and improve the economic conditions of the nation through the principle  of \\n“Seed to Food” since agriculture is the backbone of the nation. We should em power the \\nfarmers to protect and nurture the fertile land for second green re volution. Meeting the'),\n",
       " Document(metadata={'source': 'apjspeech.pdf', 'page': 2}, page_content='Scientists and the Farmers has given me the confidence \\nthat the nation is poised to increase the agricultural GDP growth by atleast 4% per annum \\nthrough the partnership of farmers and agricultural scientists a nd industries particularly \\nfor value addition. \\n \\nDefeat the problems and succeed \\nOn the evening of February 24, 2007, at Coimbatore, I had a very beautiful experience. \\nAs I got ready for meeting the first person out of twenty appoint ments, a wheel chair was \\nin sight with a smiling person probably in his late fifties; unfortunately he has no hands \\nand legs. His radiant face was revealing his happy state of mi nd. He introduced himself \\nas Vidwan Coimbatore SR Krishna Murthy. I greeted him and asked him  how this had \\nhappened. He smilingly said that it was from by birth. He thanked G od, his parents, \\nteachers and many others for giving him confidence, training and he lp. I asked him, what'),\n",
       " Document(metadata={'source': 'apjspeech.pdf', 'page': 2}, page_content='I could do for him? He said, “I don’t need anything from you. I would like to sing in fr ont \\nof you”. I readily agreed. He sang melodiously the Saint Thyagraj a’s pancha ratna kriti \\nentharo mahanubavulu in Sriragam giving me a glimpse of his talent. I was quite touched. \\nWhat is the message? Despite being physically challenged, the latent talent of music \\ncould blossom in this \\nperson with his positive attitude and perseverance, encouraged by the parents, teachers, \\nacademics and rasikas. Now he wants to give, give and give his art to inspire others. Of \\ncourse, by his merit of music, in July 2007, he performed in the Rashtra pati Bhavan art \\ntheatre. \\n \\nOvercome the impact of disaster through partnership \\nI had the opportunity to experience the Indomitable Spirit of the people and children of \\nJammu & Kashmir even as they were just recovering from the de vastating earthquake in \\n2005. I visited Urusa village on 26th November 2005 which has been adopted by the'),\n",
       " Document(metadata={'source': 'apjspeech.pdf', 'page': 2}, page_content='Western Air Command, Air Force for providing relief and medical aid to the residents of \\nthat area. When I went there, I found that the school building had been severely damaged. \\nI met all the school children and the village citizen of Urusa. The villagers apprised me of \\ntheir losses and had all praise for Army and Air Force role in rescue and relief operations \\nalong with state government. I appreciate the courage of the people of Urusa in defeating \\ntheir problems. They have actually become the master of the probl em rather than \\nallowing problems to become their master. Despite the severe l oss due to the earthquake,'),\n",
       " Document(metadata={'source': 'apjspeech.pdf', 'page': 3}, page_content='the children and the members of the village participated in the reli ef operation with the \\nArmed Forces \\nbravely and were smiling when I went to meet them. They interacted with me and said \\nthat the school was functional in the temporary tents. Here, I also witnessed the \\nparticipation of acting Chief Justice of Jammu & Kashmir along with State Government \\nauthorities in on-the-spot settlement of relief grants to be provide d to the victims whose \\nhouses had been damaged in the earth quake. I have experienced many s uch acts of \\ncourage from our citizens when faced with severe challenges. \\n \\nCourage in combating calamities \\nIn 2005, I met the Tribal Council Leaders, Students, Children of Chuckchucha village \\nduring my visit to Car Nicobar Islands. While various reconstruction a nd rehabilitation \\nactivities were in progress, during the discussions with the members  of tribal council, I \\nrealized the unique trait among the Car-Nicobar islanders. Even thoug h there were many'),\n",
       " Document(metadata={'source': 'apjspeech.pdf', 'page': 3}, page_content='human losses due to the Tsunami of 26 Dec 2004, the tribal islanders had  taken \\npossession of affected victims as their children and there is nothi ng like orphanage in \\nCar-Nicobar Islands. Touched by their courage, I composed few vers es called “Sea \\nWaves” which reads as follows: \\nSea Waves \\n \\nWe are the children of Sea waves, \\nSea waves are my friends. \\nWhen they become angry, \\nSea waves give the challenges. \\nGod has given the courage, \\nTo challenge the sea waves. \\nAnd we will succeed, \\nWe will succeed \\nWith Almighty’s grace. \\nAll the members who were gathered in the village sang the poem with me and exhibited \\nlots of courage and enthusiasm even though they had gone through severe  suffering \\nduring the Tsunami. \\n \\nConnectivity for societal transformation \\nI addressed the Pan African Parliament on 16 September 2004, at Johannesburg, South \\nAfrica. This was attended by 53 member countries of the Africa n Union, where I'),\n",
       " Document(metadata={'source': 'apjspeech.pdf', 'page': 3}, page_content='proposed the concept of Pan African e-Network for providing seamless and integrated \\nsatellite, fiber optics and wireless network connecting 53 African countries at an \\nestimated cost of US $ 100 million. \\n \\nAs part of the project 12 universities (7 from India and 5 from Africa), 17 Super \\nSpecialty Hospitals (12 from India and 5 from Africa), 53 tele-me dicine centers and 53 \\ntele-education centres in Africa will be connected. The pilot project on tele-education and \\ntele-medicine in Ethiopia has already been commissioned. Indira Gandh i National Open \\nUniversity has taken up the MBA Course for 34 Ethiopian students of Addis  Ababa and \\nHarmaya Universities. As regards, tele-medicine, the special ists from CARE Hospital,'),\n",
       " Document(metadata={'source': 'apjspeech.pdf', 'page': 4}, page_content='Hyderabad are providing one-hour live tele-consultation to doctors in B lack Lion \\nHospital, Addis Ababa in Cardiology and Radiology since November 2006. Using the \\nPan African network the Heads of the State in all the 53 countries  will be connected for \\ninstant communication. I am extremely happy that Indian experience  in bringing the \\nbenefits of technology to the people has enabled us to work with Afric a to bring societal \\ntransformation in the African continent. \\n \\nDefending the nation: Our pride \\nI visited KUMAR in Siachen Glacier located at 17,000 feet altitude held by the Indian \\nArmy, had a memorable underwater journey in INS Sindhurakshak and flew  in a Sukhoi-\\n30 fighter experiencing 2.5 g. In these three experiences, I personal ly felt proud of our \\never vigilant Soldiers, Sailors and Air Warriors performing their  tasks beyond the call of \\ntheir duty even in the most adverse circumstances natural and man m ade. During the last'),\n",
       " Document(metadata={'source': 'apjspeech.pdf', 'page': 4}, page_content='five years, I had an opportunity to present colours to many regime nts, participate in \\nnumber of passing out parades, meet the troops who were going to undertake  peace \\nmissions and interact with the family members of our Defence F orces. Our Defence \\nForces are in a beautiful mission. When the nation sleeps during night , Members of our \\nDefence teams are awake to guard us and remain vigilant to counte r any threat. The \\nNation cherishes the valour, commitment and devotion to duty of our Defenc e Forces. \\nSimilarly, I had opportunities to interact \\nwith members of our para-military forces, central and state police personnel including \\ninternal security forces who are making immense contribution in au gmenting the safety \\nand security of our citizens under difficult conditions. \\n \\nYouth movement for Developed India 2020 \\nRecently, in Hyderabad, I met a group of citizens who are putting into practice the motto'),\n",
       " Document(metadata={'source': 'apjspeech.pdf', 'page': 4}, page_content='of transforming of our youth into enlightened citizen. The Lead India 2020 Found ation \\ncreated by Dr. N.B. Sudershan at Hyderabad is training thousands of s tudents in many \\ndistricts of Andhra Pradesh in partnership with the District Adm inistration. Particularly, I \\nhappened to know the transformation which has taken place among the students  of \\nMedak district. As per the district authorities the impact of the  training on the students is \\nvisible in terms of self-discipline, love for their parents and tea chers shedding of stage \\nfear and recognition of their duties towards the nation. I talke d to Ms. Padma, a student \\nleader from Andhra Pradesh Tribal Welfare School, Nalgonda who relat ed how she \\nweaned her father away from smoking after imbibing the spirit of  the 10 point oath from \\nthe Lead India Training Camp. This gives me an assurance that the  youth of our country \\nare on the right path \\nthrough this mission oriented programme. With the ignited minds of the 540 million'),\n",
       " Document(metadata={'source': 'apjspeech.pdf', 'page': 4}, page_content='youth below the age of 25, which I consider is the most powerful resour ce on the earth, \\nunder the earth and above the earth, we have to empower the youth through va lue based \\neducation and leadership. \\n \\nConclusion \\nI was touched by the variety of Indian panorama, emotional content of the tune, cultural \\ndiversity and unity of minds in the vast land of ours. I have cited thes e examples just to \\ngive a glimpse of the richness of our tradition and effort being taken by different agencies'),\n",
       " Document(metadata={'source': 'apjspeech.pdf', 'page': 5}, page_content='to preserve it. There are also many new adventures by instituti ons and individuals. I have \\nexperienced many of them and learnt a lot about my country and our peopl e. Even while \\npursuing our economic growth, we need to do a lot to preserve the rich and diverse \\ntreasures of our culture and civilization. It is our duty for our fut ure generations. This has \\nto be done in a much larger scale through countrywide participatio n of multiple \\ninstitutions. Our country is blessed with natural resources, has shown c onsiderable \\nprogress in the last sixty years, and above all we have hard wor king people particularly \\nthe power of the 540 million youth of the country. Every sector of our count ry has given \\nme the \\nconfidence that India can become a developed nation well before 2020. Whomsoever, I \\nmet they constantly ask what they can give to the nation. We should c onstantly strive to \\nempower such members of the society. With this spirit, I am extr emely happy that we are'),\n",
       " Document(metadata={'source': 'apjspeech.pdf', 'page': 5}, page_content='on the right path. Here I am reminded of a famous poem: \\n\"When you wish upon a star, \\nMakes no difference who you are, \\nAnything your heart desires, \\nWill come to you” \\nThis poem is true to all of us, and particularly for our youth and if they aim great, I am \\nsure they will reach close to the target or the target. \\n \\nMy dear citizens, let us resolve to continue to work for realizing the missions of \\ndeveloped India 2020 with the following distinctive profile. \\n \\n1. A Nation where the rural and urban divide has reduced to a thin line. \\n \\n2. A Nation where there is an equitable distribution and adequate access to energy and \\nquality water. \\n \\n3. A Nation where agriculture, industry and service sector work together in symphony. \\n \\n4. A Nation where education with value system is not denied to any meritorious \\ncandidates because of societal or economic discrimination. \\n \\n5. A Nation which is the best destination for the most talented scholars, scientists, and \\ninvestors.'),\n",
       " Document(metadata={'source': 'apjspeech.pdf', 'page': 5}, page_content='investors. \\n \\n6. A Nation where the best of health care is available to all. \\n \\n7. A Nation where the governance is responsive, transparent and corruption free. \\n \\n8. A Nation where poverty has been totally eradicated, illiteracy removed and crimes \\nagainst women and children are absent and none in the society feels alienated. \\n \\n9. A Nation that is prosperous, healthy, secure, peaceful and happy and continues with a \\nsustainable growth path.'),\n",
       " Document(metadata={'source': 'apjspeech.pdf', 'page': 6}, page_content='10. A Nation that is one of the best places to live in and is proud of its leadership. \\n \\nFinally let me thank each one of you for showering your love and affection on me \\nthroughout the last five years by your cooperation and support. \\n \\nDear Citizens, I conclude my address by sharing with you my mission in life which is to \\nbring connectivity between billion hearts and minds of the people of Indi a in our \\nmulticultural society and to embed the self confidence that \"we c an do it\". I will be \\nalways with you, dear citizens, in the great mission of making Indi a a developed nation \\nbefore 2020. \\n \\nMay God bless you. \\n \\nJai hind. \\nDr. A. P. J. Abdul Kalam \\nwww.presidentofindia.nic.in')]"
      ]
     },
     "execution_count": 41,
     "metadata": {},
     "output_type": "execute_result"
    }
   ],
   "source": [
    "final_doc= RecursiveCharacterTextSplitter(chunk_size=1000, chunk_overlap=50).split_documents(docs)\n",
    "\n",
    "final_doc"
   ]
  },
  {
   "cell_type": "code",
   "execution_count": 50,
   "metadata": {},
   "outputs": [],
   "source": [
    "chunks_prompt=\"\"\"\n",
    "Please summarize the below speech:\n",
    "Speech:`{text}'\n",
    "Summary:\n",
    "\"\"\"\n",
    "map_prompt_template=PromptTemplate(input_variables=['text'],\n",
    "                                    template=chunks_prompt)"
   ]
  },
  {
   "cell_type": "code",
   "execution_count": 57,
   "metadata": {},
   "outputs": [
    {
     "data": {
      "text/plain": [
       "PromptTemplate(input_variables=['text'], input_types={}, partial_variables={}, template='\\nProvide the final summary of the entire speech with these important points.\\nAdd a Motivation Title,Start the precise summary with an introduction and provide the summary in number \\npoints for the speech.\\nSpeech:{text}\\n\\n')"
      ]
     },
     "execution_count": 57,
     "metadata": {},
     "output_type": "execute_result"
    }
   ],
   "source": [
    "final_prompt='''\n",
    "Provide the final summary of the entire speech with these important points.\n",
    "Add a Motivation Title,Start the precise summary with an introduction and provide the summary in number \n",
    "points for the speech.\n",
    "Speech:{text}\n",
    "\n",
    "'''\n",
    "final_prompt_template=PromptTemplate(input_variables=['text'],template=final_prompt)\n",
    "final_prompt_template"
   ]
  },
  {
   "cell_type": "code",
   "execution_count": 56,
   "metadata": {},
   "outputs": [
    {
     "ename": "ValidationError",
     "evalue": "1 validation error for MapReduceDocumentsChain\nmap_prompt_template\n  Extra inputs are not permitted [type=extra_forbidden, input_value=PromptTemplate(input_vari...h:`{text}'\\nSummary:\\n\"), input_type=PromptTemplate]\n    For further information visit https://errors.pydantic.dev/2.9/v/extra_forbidden",
     "output_type": "error",
     "traceback": [
      "\u001b[1;31m---------------------------------------------------------------------------\u001b[0m",
      "\u001b[1;31mValidationError\u001b[0m                           Traceback (most recent call last)",
      "Cell \u001b[1;32mIn[56], line 1\u001b[0m\n\u001b[1;32m----> 1\u001b[0m summary_chain\u001b[38;5;241m=\u001b[39m \u001b[43mload_summarize_chain\u001b[49m\u001b[43m(\u001b[49m\u001b[43mllm\u001b[49m\u001b[38;5;241;43m=\u001b[39;49m\u001b[43mllm\u001b[49m\u001b[43m,\u001b[49m\u001b[43m \u001b[49m\n\u001b[0;32m      2\u001b[0m \u001b[43m                                    \u001b[49m\u001b[43mchain_type\u001b[49m\u001b[38;5;241;43m=\u001b[39;49m\u001b[38;5;124;43m'\u001b[39;49m\u001b[38;5;124;43mmap_reduce\u001b[39;49m\u001b[38;5;124;43m'\u001b[39;49m\u001b[43m,\u001b[49m\u001b[43m \u001b[49m\n\u001b[0;32m      3\u001b[0m \u001b[43m                                    \u001b[49m\u001b[43mmap_prompt_template\u001b[49m\u001b[38;5;241;43m=\u001b[39;49m\u001b[43m \u001b[49m\u001b[43mmap_prompt_template\u001b[49m\u001b[43m,\u001b[49m\u001b[43m \u001b[49m\n\u001b[0;32m      4\u001b[0m \u001b[43m                                    \u001b[49m\u001b[43mcombine_prompt\u001b[49m\u001b[38;5;241;43m=\u001b[39;49m\u001b[43mfinal_prompt_template\u001b[49m\u001b[43m,\u001b[49m\u001b[43m \u001b[49m\n\u001b[0;32m      5\u001b[0m \u001b[43m                                    \u001b[49m\u001b[43mverbose\u001b[49m\u001b[38;5;241;43m=\u001b[39;49m\u001b[38;5;28;43;01mTrue\u001b[39;49;00m\u001b[43m)\u001b[49m\n",
      "File \u001b[1;32mc:\\Users\\amit.maharaj\\Langchain\\venv\\lib\\site-packages\\langchain\\chains\\summarize\\chain.py:167\u001b[0m, in \u001b[0;36mload_summarize_chain\u001b[1;34m(llm, chain_type, verbose, **kwargs)\u001b[0m\n\u001b[0;32m    162\u001b[0m \u001b[38;5;28;01mif\u001b[39;00m chain_type \u001b[38;5;129;01mnot\u001b[39;00m \u001b[38;5;129;01min\u001b[39;00m loader_mapping:\n\u001b[0;32m    163\u001b[0m     \u001b[38;5;28;01mraise\u001b[39;00m \u001b[38;5;167;01mValueError\u001b[39;00m(\n\u001b[0;32m    164\u001b[0m         \u001b[38;5;124mf\u001b[39m\u001b[38;5;124m\"\u001b[39m\u001b[38;5;124mGot unsupported chain type: \u001b[39m\u001b[38;5;132;01m{\u001b[39;00mchain_type\u001b[38;5;132;01m}\u001b[39;00m\u001b[38;5;124m. \u001b[39m\u001b[38;5;124m\"\u001b[39m\n\u001b[0;32m    165\u001b[0m         \u001b[38;5;124mf\u001b[39m\u001b[38;5;124m\"\u001b[39m\u001b[38;5;124mShould be one of \u001b[39m\u001b[38;5;132;01m{\u001b[39;00mloader_mapping\u001b[38;5;241m.\u001b[39mkeys()\u001b[38;5;132;01m}\u001b[39;00m\u001b[38;5;124m\"\u001b[39m\n\u001b[0;32m    166\u001b[0m     )\n\u001b[1;32m--> 167\u001b[0m \u001b[38;5;28;01mreturn\u001b[39;00m loader_mapping[chain_type](llm, verbose\u001b[38;5;241m=\u001b[39mverbose, \u001b[38;5;241m*\u001b[39m\u001b[38;5;241m*\u001b[39mkwargs)\n",
      "File \u001b[1;32mc:\\Users\\amit.maharaj\\Langchain\\venv\\lib\\site-packages\\langchain\\chains\\summarize\\chain.py:106\u001b[0m, in \u001b[0;36m_load_map_reduce_chain\u001b[1;34m(llm, map_prompt, combine_prompt, combine_document_variable_name, map_reduce_document_variable_name, collapse_prompt, reduce_llm, collapse_llm, verbose, token_max, callbacks, collapse_max_retries, **kwargs)\u001b[0m\n\u001b[0;32m     89\u001b[0m     collapse_chain \u001b[38;5;241m=\u001b[39m StuffDocumentsChain(\n\u001b[0;32m     90\u001b[0m         llm_chain\u001b[38;5;241m=\u001b[39mLLMChain(\n\u001b[0;32m     91\u001b[0m             llm\u001b[38;5;241m=\u001b[39m_collapse_llm,\n\u001b[1;32m   (...)\u001b[0m\n\u001b[0;32m     96\u001b[0m         document_variable_name\u001b[38;5;241m=\u001b[39mcombine_document_variable_name,\n\u001b[0;32m     97\u001b[0m     )\n\u001b[0;32m     98\u001b[0m reduce_documents_chain \u001b[38;5;241m=\u001b[39m ReduceDocumentsChain(\n\u001b[0;32m     99\u001b[0m     combine_documents_chain\u001b[38;5;241m=\u001b[39mcombine_documents_chain,\n\u001b[0;32m    100\u001b[0m     collapse_documents_chain\u001b[38;5;241m=\u001b[39mcollapse_chain,\n\u001b[1;32m   (...)\u001b[0m\n\u001b[0;32m    104\u001b[0m     collapse_max_retries\u001b[38;5;241m=\u001b[39mcollapse_max_retries,\n\u001b[0;32m    105\u001b[0m )\n\u001b[1;32m--> 106\u001b[0m \u001b[38;5;28;01mreturn\u001b[39;00m MapReduceDocumentsChain(\n\u001b[0;32m    107\u001b[0m     llm_chain\u001b[38;5;241m=\u001b[39mmap_chain,\n\u001b[0;32m    108\u001b[0m     reduce_documents_chain\u001b[38;5;241m=\u001b[39mreduce_documents_chain,\n\u001b[0;32m    109\u001b[0m     document_variable_name\u001b[38;5;241m=\u001b[39mmap_reduce_document_variable_name,\n\u001b[0;32m    110\u001b[0m     verbose\u001b[38;5;241m=\u001b[39mverbose,  \u001b[38;5;66;03m# type: ignore[arg-type]\u001b[39;00m\n\u001b[0;32m    111\u001b[0m     callbacks\u001b[38;5;241m=\u001b[39mcallbacks,\n\u001b[0;32m    112\u001b[0m     \u001b[38;5;241m*\u001b[39m\u001b[38;5;241m*\u001b[39mkwargs,\n\u001b[0;32m    113\u001b[0m )\n",
      "File \u001b[1;32mc:\\Users\\amit.maharaj\\Langchain\\venv\\lib\\site-packages\\langchain_core\\_api\\deprecation.py:216\u001b[0m, in \u001b[0;36mdeprecated.<locals>.deprecate.<locals>.finalize.<locals>.warn_if_direct_instance\u001b[1;34m(self, *args, **kwargs)\u001b[0m\n\u001b[0;32m    214\u001b[0m     warned \u001b[38;5;241m=\u001b[39m \u001b[38;5;28;01mTrue\u001b[39;00m\n\u001b[0;32m    215\u001b[0m     emit_warning()\n\u001b[1;32m--> 216\u001b[0m \u001b[38;5;28;01mreturn\u001b[39;00m wrapped(\u001b[38;5;28mself\u001b[39m, \u001b[38;5;241m*\u001b[39margs, \u001b[38;5;241m*\u001b[39m\u001b[38;5;241m*\u001b[39mkwargs)\n",
      "File \u001b[1;32mc:\\Users\\amit.maharaj\\Langchain\\venv\\lib\\site-packages\\langchain_core\\load\\serializable.py:125\u001b[0m, in \u001b[0;36mSerializable.__init__\u001b[1;34m(self, *args, **kwargs)\u001b[0m\n\u001b[0;32m    123\u001b[0m \u001b[38;5;28;01mdef\u001b[39;00m \u001b[38;5;21m__init__\u001b[39m(\u001b[38;5;28mself\u001b[39m, \u001b[38;5;241m*\u001b[39margs: Any, \u001b[38;5;241m*\u001b[39m\u001b[38;5;241m*\u001b[39mkwargs: Any) \u001b[38;5;241m-\u001b[39m\u001b[38;5;241m>\u001b[39m \u001b[38;5;28;01mNone\u001b[39;00m:\n\u001b[0;32m    124\u001b[0m \u001b[38;5;250m    \u001b[39m\u001b[38;5;124;03m\"\"\"\"\"\"\u001b[39;00m\n\u001b[1;32m--> 125\u001b[0m     \u001b[38;5;28msuper\u001b[39m()\u001b[38;5;241m.\u001b[39m\u001b[38;5;21m__init__\u001b[39m(\u001b[38;5;241m*\u001b[39margs, \u001b[38;5;241m*\u001b[39m\u001b[38;5;241m*\u001b[39mkwargs)\n",
      "File \u001b[1;32mc:\\Users\\amit.maharaj\\Langchain\\venv\\lib\\site-packages\\pydantic\\main.py:212\u001b[0m, in \u001b[0;36mBaseModel.__init__\u001b[1;34m(self, **data)\u001b[0m\n\u001b[0;32m    210\u001b[0m \u001b[38;5;66;03m# `__tracebackhide__` tells pytest and some other tools to omit this function from tracebacks\u001b[39;00m\n\u001b[0;32m    211\u001b[0m __tracebackhide__ \u001b[38;5;241m=\u001b[39m \u001b[38;5;28;01mTrue\u001b[39;00m\n\u001b[1;32m--> 212\u001b[0m validated_self \u001b[38;5;241m=\u001b[39m \u001b[38;5;28;43mself\u001b[39;49m\u001b[38;5;241;43m.\u001b[39;49m\u001b[43m__pydantic_validator__\u001b[49m\u001b[38;5;241;43m.\u001b[39;49m\u001b[43mvalidate_python\u001b[49m\u001b[43m(\u001b[49m\u001b[43mdata\u001b[49m\u001b[43m,\u001b[49m\u001b[43m \u001b[49m\u001b[43mself_instance\u001b[49m\u001b[38;5;241;43m=\u001b[39;49m\u001b[38;5;28;43mself\u001b[39;49m\u001b[43m)\u001b[49m\n\u001b[0;32m    213\u001b[0m \u001b[38;5;28;01mif\u001b[39;00m \u001b[38;5;28mself\u001b[39m \u001b[38;5;129;01mis\u001b[39;00m \u001b[38;5;129;01mnot\u001b[39;00m validated_self:\n\u001b[0;32m    214\u001b[0m     warnings\u001b[38;5;241m.\u001b[39mwarn(\n\u001b[0;32m    215\u001b[0m         \u001b[38;5;124m'\u001b[39m\u001b[38;5;124mA custom validator is returning a value other than `self`.\u001b[39m\u001b[38;5;130;01m\\n\u001b[39;00m\u001b[38;5;124m'\u001b[39m\n\u001b[0;32m    216\u001b[0m         \u001b[38;5;124m\"\u001b[39m\u001b[38;5;124mReturning anything other than `self` from a top level model validator isn\u001b[39m\u001b[38;5;124m'\u001b[39m\u001b[38;5;124mt supported when validating via `__init__`.\u001b[39m\u001b[38;5;130;01m\\n\u001b[39;00m\u001b[38;5;124m\"\u001b[39m\n\u001b[0;32m    217\u001b[0m         \u001b[38;5;124m'\u001b[39m\u001b[38;5;124mSee the `model_validator` docs (https://docs.pydantic.dev/latest/concepts/validators/#model-validators) for more details.\u001b[39m\u001b[38;5;124m'\u001b[39m,\n\u001b[0;32m    218\u001b[0m         category\u001b[38;5;241m=\u001b[39m\u001b[38;5;28;01mNone\u001b[39;00m,\n\u001b[0;32m    219\u001b[0m     )\n",
      "\u001b[1;31mValidationError\u001b[0m: 1 validation error for MapReduceDocumentsChain\nmap_prompt_template\n  Extra inputs are not permitted [type=extra_forbidden, input_value=PromptTemplate(input_vari...h:`{text}'\\nSummary:\\n\"), input_type=PromptTemplate]\n    For further information visit https://errors.pydantic.dev/2.9/v/extra_forbidden"
     ]
    }
   ],
   "source": [
    "summary_chain= load_summarize_chain(llm=llm, \n",
    "                                    chain_type='map_reduce', \n",
    "                                    map_prompt_template= map_prompt_template, \n",
    "                                    combine_prompt=final_prompt_template, \n",
    "                                    verbose=True)"
   ]
  }
 ],
 "metadata": {
  "kernelspec": {
   "display_name": "Python 3",
   "language": "python",
   "name": "python3"
  },
  "language_info": {
   "codemirror_mode": {
    "name": "ipython",
    "version": 3
   },
   "file_extension": ".py",
   "mimetype": "text/x-python",
   "name": "python",
   "nbconvert_exporter": "python",
   "pygments_lexer": "ipython3",
   "version": "3.10.16"
  }
 },
 "nbformat": 4,
 "nbformat_minor": 2
}
